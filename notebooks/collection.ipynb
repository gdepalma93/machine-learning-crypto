{
 "cells": [
  {
   "cell_type": "markdown",
   "metadata": {},
   "source": [
    "# DATA COLLECTION FOR ML RESEARCH\n",
    "    1. BITCOIN DATA\n",
    "    2. CRYPTO DATA\n",
    "    3. FOREX DATA"
   ]
  },
  {
   "cell_type": "markdown",
   "metadata": {},
   "source": [
    "## ***1. BITCOIN DATA***\n",
    "***Pre-Processing***"
   ]
  },
  {
   "cell_type": "code",
   "execution_count": 1,
   "metadata": {},
   "outputs": [],
   "source": [
    "timespan = '150months'\n",
    "rollingAverage = '1hour'\n",
    "start = '2012-04-00'\n",
    "sampled = 'false'\n",
    "\n",
    "global totalled_df\n",
    "global url\n",
    "url = 'https://api.blockchain.info/charts/'\n",
    "\n",
    "def create_df(url, chartName):\n",
    "    url += chartName\n",
    "    params = dict(\n",
    "        timespan = timespan,\n",
    "        rollingAverage = rollingAverage,\n",
    "        start = start, \n",
    "        sampled = sampled,\n",
    "    )\n",
    "    resp = requests.get(url=url, params=params)\n",
    "    data = json.loads(resp.text)\n",
    "#     print(json.dumps(data, indent=4, sort_keys=True))\n",
    "    data = data['values']\n",
    "    df = pd.DataFrame(data)\n",
    "    df['x'] = pd.to_datetime(df['x'], unit='s')\n",
    "    df.set_index('x', inplace=True)\n",
    "    df.columns =[chartName]\n",
    "    return df\n",
    "\n",
    "def merge_df(all_df, new_df):\n",
    "    all_df = pd.merge(all_df, new_df, how='left',on ='x' )\n",
    "#     totalled_df.T.drop_duplicates().T    \n",
    "    #all_df = all_df.loc[:,~all_df.columns.duplicated()]\n",
    "    return all_df"
   ]
  },
  {
   "cell_type": "markdown",
   "metadata": {},
   "source": [
    "***Bitcoin Data Collection***"
   ]
  },
  {
   "cell_type": "code",
   "execution_count": 7,
   "metadata": {},
   "outputs": [],
   "source": [
    "import json, requests\n",
    "import pandas as pd\n",
    "import datetime\n",
    "#1 BTC MARKET PRICE\n",
    "df= create_df(url, 'market-price')\n",
    "df_total = df\n",
    "#2 TRADE VOLUME\n",
    "df = create_df(url, 'trade-volume')\n",
    "df_total = merge_df(df_total, df)\n",
    "#3 MEDIAN TRANSACTION TIME\n",
    "df_med_tx = create_df(url, 'median-confirmation-time')\n",
    "df_total = merge_df(df_total, df)\n",
    "#4 HASH RATE\n",
    "df = create_df(url, 'hash-rate')\n",
    "df_total = merge_df(df_total, df)\n",
    "#5 TOTAL TRANSACTION FEES\n",
    "df = create_df(url, 'transaction-fees-usd')\n",
    "df_total = merge_df(df_total, df)\n",
    "#6 NUMBER OF UNIQUE ADDRESSES\n",
    "df = create_df(url, 'n-unique-addresses')\n",
    "df_total = merge_df(df_total, df)\n",
    "#7 TOTAL NUMBER OF TRANSACTIONS PER DAY\n",
    "df = create_df(url, 'n-transactions')\n",
    "df_total = merge_df(df_total, df)\n",
    "#8 NUMBER OF TRANSACTIONS WAITING TO BE INCLUDED (MEMPOOL TRANSACTION COUNT)\n",
    "df = create_df(url, 'mempool-count')\n",
    "df_total = merge_df(df_total, df)\n",
    "#9 TRANSACTION VOLUME (BTC) EXLUDING TOP 100 POPULAR ADDRESSES\n",
    "df = create_df(url, 'n-transactions-excluding-popular')\n",
    "df_total = merge_df(df_total, df)\n",
    "#10 Total Circulating Bitcoin\n",
    "df = create_df(url, 'total-bitcoins')\n",
    "df_total = merge_df(df_total,df)\n",
    "#11 Total Market Capitalization\n",
    "df = create_df(url, 'market-cap')\n",
    "df_total = merge_df(df_total, df)\n",
    "#12 Total Blockchain Size (MB)\n",
    "df = create_df(url, 'block-size')\n",
    "df_total = merge_df(df_total, df)\n"
   ]
  },
  {
   "cell_type": "code",
   "execution_count": 8,
   "metadata": {},
   "outputs": [
    {
     "data": {
      "text/plain": [
       "Index(['market-price', 'trade-volume_x', 'trade-volume_y', 'hash-rate',\n",
       "       'transaction-fees-usd', 'n-unique-addresses', 'n-transactions',\n",
       "       'mempool-count', 'n-transactions-excluding-popular', 'total-bitcoins'],\n",
       "      dtype='object')"
      ]
     },
     "execution_count": 8,
     "metadata": {},
     "output_type": "execute_result"
    }
   ],
   "source": [
    "df_total.columns"
   ]
  },
  {
   "cell_type": "code",
   "execution_count": 60,
   "metadata": {},
   "outputs": [],
   "source": [
    "# Initial Imports\n",
    "from pathlib import Path\n",
    "from dotenv import load_dotenv\n",
    "csv_path = Path(\"/Users/gdepa/PyCharmProjects/ghost/fintech-apps/ml-research/data-analysis\")/'btc_df.csv'"
   ]
  },
  {
   "cell_type": "code",
   "execution_count": 61,
   "metadata": {},
   "outputs": [],
   "source": [
    "df_total.to_csv(csv_path, sep=',')"
   ]
  },
  {
   "cell_type": "markdown",
   "metadata": {},
   "source": [
    "---\n",
    "## 2. ***CRYPTO DATA***"
   ]
  },
  {
   "cell_type": "code",
   "execution_count": null,
   "metadata": {},
   "outputs": [],
   "source": []
  }
 ],
 "metadata": {
  "kernelspec": {
   "display_name": "Python 3",
   "language": "python",
   "name": "python3"
  },
  "language_info": {
   "codemirror_mode": {
    "name": "ipython",
    "version": 3
   },
   "file_extension": ".py",
   "mimetype": "text/x-python",
   "name": "python",
   "nbconvert_exporter": "python",
   "pygments_lexer": "ipython3",
   "version": "3.8.5"
  }
 },
 "nbformat": 4,
 "nbformat_minor": 4
}
